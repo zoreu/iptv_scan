{
  "nbformat": 4,
  "nbformat_minor": 0,
  "metadata": {
    "colab": {
      "provenance": []
    },
    "kernelspec": {
      "name": "python3",
      "display_name": "Python 3"
    },
    "language_info": {
      "name": "python"
    }
  },
  "cells": [
    {
      "cell_type": "code",
      "execution_count": null,
      "metadata": {
        "id": "XMeLg6wQe0YB"
      },
      "outputs": [],
      "source": [
        "# download combo teste ou crie o seu e faça upload\n",
        "!wget https://github.com/zoreu/iptv_scan/raw/main/comboteste.txt"
      ]
    },
    {
      "cell_type": "code",
      "source": [
        "# download scan - baixe o executavel caso não tenha ainda baixado\n",
        "!wget https://github.com/zoreu/iptv_scan/raw/main/iptvscan"
      ],
      "metadata": {
        "id": "CVsB5BMYgh7E"
      },
      "execution_count": null,
      "outputs": []
    },
    {
      "cell_type": "code",
      "source": [
        "# rodar scan, nescessário baixar os arquivos acima\n",
        "# parametros:\n",
        "# -H nome do host alvo\n",
        "# -C nome do arquivo de combo\n",
        "# -O arquivo onde sera salvo todas as listas\n",
        "# -B numero de bots minerando lista\n",
        "!chmod +x iptvscan && ./iptvscan -H http://cinepulse.live -C comboteste.txt -O listas.txt -B 20"
      ],
      "metadata": {
        "id": "6iZjfJNefrQm"
      },
      "execution_count": null,
      "outputs": []
    }
  ]
}